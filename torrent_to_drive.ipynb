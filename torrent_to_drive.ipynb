{
  "nbformat": 4,
  "nbformat_minor": 0,
  "metadata": {
    "colab": {
      "provenance": []
    },
    "kernelspec": {
      "name": "python3",
      "display_name": "Python 3"
    },
    "language_info": {
      "name": "python"
    }
  },
  "cells": [
    {
      "cell_type": "markdown",
      "source": [
        "# Install necessary libraries"
      ],
      "metadata": {
        "id": "omGfI9hDT4wE"
      }
    },
    {
      "cell_type": "code",
      "execution_count": null,
      "metadata": {
        "id": "AS2tEajPQ2jy"
      },
      "outputs": [],
      "source": [
        "!apt install python3-libtorrent"
      ]
    },
    {
      "cell_type": "markdown",
      "source": [
        "# Import necessary libraries"
      ],
      "metadata": {
        "id": "hVT6D67FT9WJ"
      }
    },
    {
      "cell_type": "code",
      "source": [
        "import libtorrent as lt\n",
        "import time\n",
        "from google.colab import drive"
      ],
      "metadata": {
        "id": "_8YOorgJTkEF"
      },
      "execution_count": null,
      "outputs": []
    },
    {
      "cell_type": "markdown",
      "source": [
        "# Mount Google Drive"
      ],
      "metadata": {
        "id": "E_gNxII6T_eX"
      }
    },
    {
      "cell_type": "code",
      "source": [
        "drive.mount('/content/drive')"
      ],
      "metadata": {
        "id": "vHp5HQEKTmki"
      },
      "execution_count": null,
      "outputs": []
    },
    {
      "cell_type": "markdown",
      "source": [
        "# Function to add a torrent and download to Google Drive and Call the function"
      ],
      "metadata": {
        "id": "K4kNHiryUECI"
      }
    },
    {
      "cell_type": "code",
      "source": [
        "def add_torrent(magnet_link, save_path):\n",
        "    ses = lt.session()\n",
        "    handle = lt.add_magnet_uri(ses, magnet_link, {'save_path': save_path})\n",
        "    print('downloading', handle.name())\n",
        "    while not handle.is_seed():\n",
        "        s = handle.status()\n",
        "        print('%.2f%% complete (down: %.1f kB/s up: %.1f kB/s peers: %d) %s' % (\n",
        "            s.progress * 100, s.download_rate / 1000, s.upload_rate / 1000,\n",
        "            s.num_peers, s.state))\n",
        "        time.sleep(5)\n",
        "\n",
        "magnet_link = input(\"Enter the magnet link: \")\n",
        "save_path = '/content/drive/MyDrive/' + input(\"Enter the path where you want to save the downloaded file: \")\n",
        "\n",
        "add_torrent(magnet_link, save_path)"
      ],
      "metadata": {
        "id": "-lC_J_HwTo2E"
      },
      "execution_count": null,
      "outputs": []
    }
  ]
}